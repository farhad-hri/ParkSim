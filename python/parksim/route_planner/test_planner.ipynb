{
 "cells": [
  {
   "cell_type": "code",
   "execution_count": 1,
   "metadata": {},
   "outputs": [],
   "source": [
    "%load_ext autoreload\n",
    "%autoreload 2\n",
    "\n",
    "from dlp.dataset import Dataset\n",
    "from dlp.visualizer import Visualizer\n",
    "\n",
    "from parksim.route_planner.graph import WaypointsGraph\n",
    "\n",
    "from pathlib import Path\n",
    "\n",
    "import matplotlib.pyplot as plt\n",
    "\n",
    "from parksim.route_planner.a_star import AStarPlanner"
   ]
  },
  {
   "cell_type": "markdown",
   "metadata": {},
   "source": [
    "## Load Dataset"
   ]
  },
  {
   "cell_type": "code",
   "execution_count": 2,
   "metadata": {},
   "outputs": [],
   "source": [
    "# Load dataset\n",
    "ds = Dataset()\n",
    "\n",
    "home_path = str(Path.home())\n",
    "ds.load(home_path + \"/dlp-dataset/data/DJI_0012\")"
   ]
  },
  {
   "cell_type": "markdown",
   "metadata": {},
   "source": [
    "## Pyplot Visualizer"
   ]
  },
  {
   "cell_type": "code",
   "execution_count": null,
   "metadata": {},
   "outputs": [],
   "source": [
    "# Instantiate the visualizer object\n",
    "vis = Visualizer(ds)\n",
    "\n",
    "# Plot frame\n",
    "scene = ds.get(\"scene\", ds.list_scenes()[0])\n",
    "ax = vis.plot_frame(scene[\"first_frame\"])\n",
    "plt.show()"
   ]
  },
  {
   "cell_type": "markdown",
   "metadata": {},
   "source": [
    "## Waypoints as a graph"
   ]
  },
  {
   "cell_type": "code",
   "execution_count": null,
   "metadata": {},
   "outputs": [],
   "source": [
    "graph = WaypointsGraph()\n",
    "graph.setup_with_vis(vis)\n",
    "\n",
    "plt_ops = {\"color\": \"lightgrey\", \"linewidth\": 0.75, \"linestyle\": \"dotted\"}\n",
    "ax = graph.plot(plt_ops=plt_ops)\n",
    "ax = vis.plot_frame(scene[\"first_frame\"], ax=ax)\n",
    "plt.show()"
   ]
  },
  {
   "cell_type": "code",
   "execution_count": null,
   "metadata": {},
   "outputs": [],
   "source": [
    "plt_ops = {\"color\": \"lightgrey\", \"linewidth\": 0.75, \"linestyle\": \"dotted\"}\n",
    "ax = graph.plot(plt_ops=plt_ops)\n",
    "\n",
    "# Solve A* path\n",
    "planner = AStarPlanner(graph.vertices[60], graph.vertices[-4])\n",
    "graph_sol = planner.solve()\n",
    "\n",
    "plt_ops = {\"color\": \"red\", \"linewidth\": 0.75, \"linestyle\": \"dotted\"}\n",
    "ax = vis.plot_frame(scene[\"first_frame\"], ax=ax)\n",
    "ax = graph_sol.plot(ax=ax, plt_ops=plt_ops)\n",
    "\n",
    "planner = AStarPlanner(graph.vertices[30], graph.vertices[90])\n",
    "graph_sol = planner.solve()\n",
    "\n",
    "plt_ops = {\"color\": \"blue\", \"linewidth\": 0.75, \"linestyle\": \"dotted\"}\n",
    "ax = vis.plot_frame(scene[\"first_frame\"], ax=ax)\n",
    "ax = graph_sol.plot(ax=ax, plt_ops=plt_ops)\n",
    "plt.xlabel(\"X (m)\", fontname=\"Times New Roman\", fontsize=14)\n",
    "plt.ylabel(\"Y (m)\", fontname=\"Times New Roman\", fontsize=14)\n",
    "\n",
    "plt.yticks(fontname=\"Times New Roman\", fontsize=14)\n",
    "plt.xticks(fontname=\"Times New Roman\", fontsize=14)\n",
    "\n",
    "plt.tight_layout()\n",
    "plt.savefig(\"A_star_centerline.pdf\")"
   ]
  },
  {
   "cell_type": "code",
   "execution_count": null,
   "metadata": {},
   "outputs": [],
   "source": [
    "plt_ops = {\"color\": \"lightgrey\", \"linewidth\": 0.75, \"linestyle\": \"dotted\"}\n",
    "ax = graph.plot(plt_ops=plt_ops)\n",
    "\n",
    "# Solve A* path\n",
    "planner = AStarPlanner(graph.vertices[60], graph.vertices[-4])\n",
    "graph_sol = planner.solve()\n",
    "\n",
    "offset = 1.75\n",
    "\n",
    "plt_ops = {\"color\": \"red\", \"linewidth\": 0.75, \"linestyle\": \"dotted\"}\n",
    "ax = vis.plot_frame(scene[\"first_frame\"], ax=ax)\n",
    "cxs, cys, _ = graph_sol.compute_ref_path(offset=offset)\n",
    "ax.plot(cxs, cys, **plt_ops)\n",
    "ax.plot(cxs[0], cys[0], marker=\"s\", markersize=4, mfc=\"none\", **plt_ops)\n",
    "ax.plot(cxs[-1], cys[-1], marker=\"x\", markersize=4, mfc=\"none\", **plt_ops)\n",
    "\n",
    "planner = AStarPlanner(graph.vertices[30], graph.vertices[90])\n",
    "graph_sol = planner.solve()\n",
    "\n",
    "plt_ops = {\"color\": \"blue\", \"linewidth\": 0.75, \"linestyle\": \"dotted\"}\n",
    "ax = vis.plot_frame(scene[\"first_frame\"], ax=ax)\n",
    "cxs, cys, _ = graph_sol.compute_ref_path(offset=offset)\n",
    "ax.plot(cxs, cys, **plt_ops)\n",
    "ax.plot(cxs[0], cys[0], marker=\"s\", markersize=4, mfc=\"none\", **plt_ops)\n",
    "ax.plot(cxs[-1], cys[-1], marker=\"x\", markersize=4, mfc=\"none\", **plt_ops)\n",
    "plt.xlabel(\"X (m)\", fontname=\"Times New Roman\", fontsize=14)\n",
    "plt.ylabel(\"Y (m)\", fontname=\"Times New Roman\", fontsize=14)\n",
    "\n",
    "plt.yticks(fontname=\"Times New Roman\", fontsize=14)\n",
    "plt.xticks(fontname=\"Times New Roman\", fontsize=14)\n",
    "\n",
    "plt.tight_layout()\n",
    "plt.savefig(f\"A_star_offset{offset}.pdf\")"
   ]
  }
 ],
 "metadata": {
  "interpreter": {
   "hash": "427b3bd9b9dd19d37481672008534dffed4e74dc6f302a9b19947aa559295010"
  },
  "kernelspec": {
   "display_name": "Python 3.8.10 64-bit ('park-sim': venv)",
   "language": "python",
   "name": "python3"
  },
  "language_info": {
   "codemirror_mode": {
    "name": "ipython",
    "version": 3
   },
   "file_extension": ".py",
   "mimetype": "text/x-python",
   "name": "python",
   "nbconvert_exporter": "python",
   "pygments_lexer": "ipython3",
   "version": "3.8.10"
  },
  "orig_nbformat": 4
 },
 "nbformat": 4,
 "nbformat_minor": 2
}
